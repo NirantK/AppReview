{
 "cells": [
  {
   "cell_type": "code",
   "execution_count": 1,
   "id": "progressive-spirituality",
   "metadata": {},
   "outputs": [],
   "source": [
    "import json\n",
    "import random\n",
    "from pathlib import Path\n",
    "\n",
    "import pandas as pd\n",
    "\n",
    "%load_ext autoreload\n",
    "%autoreload 2\n",
    "Path.ls = lambda x: list(x.iterdir())"
   ]
  },
  {
   "cell_type": "markdown",
   "id": "authorized-ticket",
   "metadata": {},
   "source": [
    "```TODO next:``` \n",
    "\n",
    "1. spaCy v3 Tokenize. Create a vocabulary of words. Do a Zipf's plot. \n",
    "2. Find common nouns, verbs using textacy/v3 of the same\n",
    "3. \n"
   ]
  }
 ],
 "metadata": {
  "kernelspec": {
   "display_name": "Python 3",
   "language": "python",
   "name": "python3"
  },
  "language_info": {
   "codemirror_mode": {
    "name": "ipython",
    "version": 3
   },
   "file_extension": ".py",
   "mimetype": "text/x-python",
   "name": "python",
   "nbconvert_exporter": "python",
   "pygments_lexer": "ipython3",
   "version": "3.9.2"
  }
 },
 "nbformat": 4,
 "nbformat_minor": 5
}
