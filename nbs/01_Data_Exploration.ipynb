{
 "cells": [
  {
   "cell_type": "code",
   "execution_count": 1,
   "id": "fc4a369a",
   "metadata": {},
   "outputs": [],
   "source": [
    "import json\n",
    "import random\n",
    "from pathlib import Path\n",
    "\n",
    "import pandas as pd\n",
    "import seaborn as sns\n",
    "import spacy\n",
    "import textacy\n",
    "from spacy.lang.en import English\n",
    "from tqdm.notebook import tqdm\n",
    "\n",
    "sns.set_theme()\n",
    "\n",
    "\n",
    "%load_ext autoreload\n",
    "%autoreload 2\n",
    "Path.ls = lambda x: list(x.iterdir())"
   ]
  },
  {
   "cell_type": "code",
   "execution_count": 2,
   "id": "2adc034e",
   "metadata": {},
   "outputs": [
    {
     "data": {
      "text/plain": [
       "[PosixPath('/home/nirant/AppReview/data/Clubhouse_us_app_store_reviews.json'),\n",
       " PosixPath('/home/nirant/AppReview/data/frequency_count.json'),\n",
       " PosixPath('/home/nirant/AppReview/data/Moj_us_app_store_reviews.json'),\n",
       " PosixPath('/home/nirant/AppReview/data/Uber_us_app_store_reviews.json'),\n",
       " PosixPath('/home/nirant/AppReview/data/com.ubercab_us_play_store_reviews.json'),\n",
       " PosixPath('/home/nirant/AppReview/data/Netflix_us_app_store_reviews.json'),\n",
       " PosixPath('/home/nirant/AppReview/data/Moj_in_app_store_reviews.json'),\n",
       " PosixPath('/home/nirant/AppReview/data/IndiaGold_in_app_store_reviews.json')]"
      ]
     },
     "execution_count": 2,
     "metadata": {},
     "output_type": "execute_result"
    }
   ],
   "source": [
    "data_dir = Path(\"../data\").resolve()\n",
    "assert data_dir.exists()\n",
    "data_dir.ls()"
   ]
  },
  {
   "cell_type": "markdown",
   "id": "acc2d73f",
   "metadata": {},
   "source": [
    "Note:\n",
    "\n",
    "Here we will explore App Reviews for just one app: Uber (Passenger/Cab, not the Driver). The additional data to reproduce this for other clients is left as an exercise for you.\n",
    "\n",
    "But to get an overview of all of them, we combine them into a larger single text string and explore them. "
   ]
  },
  {
   "cell_type": "code",
   "execution_count": 3,
   "id": "ebb4aeb9",
   "metadata": {},
   "outputs": [],
   "source": [
    "file_path = data_dir / \"Uber_us_app_store_reviews.json\"; assert file_path.exists()\n",
    "with file_path.open(\"r\") as f:\n",
    "    raw_data = pd.read_json(f)\n",
    "    reviews = raw_data[\"review\"].to_list()\n",
    "# print(type(reviews), reviews)"
   ]
  },
  {
   "cell_type": "code",
   "execution_count": 4,
   "id": "87370e04",
   "metadata": {},
   "outputs": [
    {
     "data": {
      "text/plain": [
       "1000"
      ]
     },
     "execution_count": 4,
     "metadata": {},
     "output_type": "execute_result"
    }
   ],
   "source": [
    "len(reviews)"
   ]
  },
  {
   "cell_type": "code",
   "execution_count": 5,
   "id": "ba69c85d",
   "metadata": {},
   "outputs": [],
   "source": [
    "reviews = []\n",
    "files = [x for x in data_dir.ls() if \"app\" in x.name]\n",
    "for file_path in files:\n",
    "    try:\n",
    "        with file_path.open(\"r\") as f:\n",
    "            file_data = pd.read_json(f)\n",
    "            reviews += file_data[\"review\"].to_list()\n",
    "    except ValueError as e:\n",
    "        print(f\"Value Error with {file.name}\")\n",
    "    except KeyError as ke:\n",
    "        print(f\"Key error with {file.name}\")"
   ]
  },
  {
   "cell_type": "code",
   "execution_count": 6,
   "id": "5ae7e820",
   "metadata": {},
   "outputs": [],
   "source": [
    "# !python -m spacy download en_core_web_sm"
   ]
  },
  {
   "cell_type": "code",
   "execution_count": 7,
   "id": "4dc1bf62",
   "metadata": {},
   "outputs": [
    {
     "name": "stdout",
     "output_type": "stream",
     "text": [
      "CPU times: user 1.1 ms, sys: 749 µs, total: 1.85 ms\n",
      "Wall time: 1.87 ms\n"
     ]
    },
    {
     "data": {
      "text/plain": [
       "6049"
      ]
     },
     "execution_count": 7,
     "metadata": {},
     "output_type": "execute_result"
    }
   ],
   "source": [
    "%time reviews = [rev.strip() for rev in reviews]\n",
    "len(reviews)"
   ]
  },
  {
   "cell_type": "code",
   "execution_count": 8,
   "id": "36a0be59",
   "metadata": {},
   "outputs": [
    {
     "name": "stdout",
     "output_type": "stream",
     "text": [
      "CPU times: user 1min, sys: 9.74 s, total: 1min 10s\n",
      "Wall time: 1min 10s\n"
     ]
    }
   ],
   "source": [
    "%time corpus = textacy.Corpus(\"en_core_web_sm\", data=reviews)"
   ]
  },
  {
   "cell_type": "code",
   "execution_count": 9,
   "id": "f0bd82da",
   "metadata": {},
   "outputs": [
    {
     "data": {
      "text/plain": [
       "(6049, 35560, 592458)"
      ]
     },
     "execution_count": 9,
     "metadata": {},
     "output_type": "execute_result"
    }
   ],
   "source": [
    "corpus.n_docs, corpus.n_sents, corpus.n_tokens"
   ]
  },
  {
   "cell_type": "code",
   "execution_count": 10,
   "id": "1ca6dcc3",
   "metadata": {},
   "outputs": [
    {
     "data": {
      "text/plain": [
       "[('app', 4563),\n",
       " ('Netflix', 3396),\n",
       " ('watch', 3072),\n",
       " ('like', 2768),\n",
       " ('show', 2420),\n",
       " ('movie', 2409),\n",
       " ('driver', 2374),\n",
       " ('Uber', 2337),\n",
       " ('time', 2283),\n",
       " ('love', 1814),\n",
       " ('people', 1382),\n",
       " ('ride', 1369),\n",
       " ('good', 1361),\n",
       " ('want', 1352),\n",
       " ('know', 1257),\n",
       " ('go', 1135),\n",
       " ('try', 1117),\n",
       " ('great', 1098),\n",
       " ('use', 1094),\n",
       " ('need', 1077),\n",
       " ('thing', 1067),\n",
       " ('say', 1020),\n",
       " ('get', 1019),\n",
       " ('work', 1014),\n",
       " ('way', 989)]"
      ]
     },
     "execution_count": 10,
     "metadata": {},
     "output_type": "execute_result"
    }
   ],
   "source": [
    "word_counts = corpus.word_counts(by=\"lemma_\", filter_stops= True, filter_nums=True, filter_punct=True)\n",
    "most_common_lemmas = sorted(word_counts.items(), key=lambda x: x[1], reverse=True)[:25]\n",
    "most_common_lemmas"
   ]
  },
  {
   "cell_type": "code",
   "execution_count": 11,
   "id": "c7a06044",
   "metadata": {},
   "outputs": [],
   "source": [
    "df = pd.DataFrame(most_common_lemmas, columns=[\"words\", \"count\"])"
   ]
  },
  {
   "cell_type": "code",
   "execution_count": 12,
   "id": "c9a96d91",
   "metadata": {},
   "outputs": [
    {
     "data": {
      "image/png": "[encoded data removed]",
      "text/plain": [
       "<Figure size 432x288 with 1 Axes>"
      ]
     },
     "metadata": {},
     "output_type": "display_data"
    }
   ],
   "source": [
    "plot = sns.scatterplot(data=df, x=\"count\", y=\"words\")"
   ]
  }
 ],
 "metadata": {
  "kernelspec": {
   "display_name": "Python 3",
   "language": "python",
   "name": "python3"
  },
  "language_info": {
   "codemirror_mode": {
    "name": "ipython",
    "version": 3
   },
   "file_extension": ".py",
   "mimetype": "text/x-python",
   "name": "python",
   "nbconvert_exporter": "python",
   "pygments_lexer": "ipython3",
   "version": "3.7.0"
  }
 },
 "nbformat": 4,
 "nbformat_minor": 5
}
