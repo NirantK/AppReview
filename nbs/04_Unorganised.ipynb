{
 "cells": [
  {
   "cell_type": "code",
   "execution_count": 75,
   "id": "10fce363",
   "metadata": {},
   "outputs": [
    {
     "name": "stdout",
     "output_type": "stream",
     "text": [
      "The autoreload extension is already loaded. To reload it, use:\n",
      "  %reload_ext autoreload\n"
     ]
    }
   ],
   "source": [
    "import json\n",
    "import random\n",
    "from pathlib import Path\n",
    "\n",
    "import pandas as pd\n",
    "import numpy as np\n",
    "%load_ext autoreload\n",
    "%autoreload 2\n",
    "Path.ls = lambda x: list(x.iterdir())\n",
    "# from urllib.parse import quote_plus"
   ]
  },
  {
   "cell_type": "code",
   "execution_count": 76,
   "id": "a929020f",
   "metadata": {},
   "outputs": [],
   "source": [
    "# Text Classification with TF-NB-SVM"
   ]
  },
  {
   "cell_type": "code",
   "execution_count": 143,
   "id": "6febb487",
   "metadata": {},
   "outputs": [],
   "source": [
    "from sklearn.linear_model import LogisticRegression\n",
    "from sklearn.feature_extraction.text import CountVectorizer, TfidfVectorizer\n",
    "from sklearn.model_selection import StratifiedShuffleSplit"
   ]
  },
  {
   "cell_type": "code",
   "execution_count": 144,
   "id": "63b1abae",
   "metadata": {},
   "outputs": [
    {
     "data": {
      "text/html": [
       "<div>\n",
       "<style scoped>\n",
       "    .dataframe tbody tr th:only-of-type {\n",
       "        vertical-align: middle;\n",
       "    }\n",
       "\n",
       "    .dataframe tbody tr th {\n",
       "        vertical-align: top;\n",
       "    }\n",
       "\n",
       "    .dataframe thead th {\n",
       "        text-align: right;\n",
       "    }\n",
       "</style>\n",
       "<table border=\"1\" class=\"dataframe\">\n",
       "  <thead>\n",
       "    <tr style=\"text-align: right;\">\n",
       "      <th></th>\n",
       "      <th>review</th>\n",
       "      <th>labels</th>\n",
       "      <th>scores</th>\n",
       "      <th>tags</th>\n",
       "    </tr>\n",
       "  </thead>\n",
       "  <tbody>\n",
       "    <tr>\n",
       "      <th>0</th>\n",
       "      <td>I’ve used Uber a long time and have been able ...</td>\n",
       "      <td>['Pickup', 'Advance Ride Booking', 'Price', 'C...</td>\n",
       "      <td>[0.8712594509124756, 0.6643384695053101, 0.533...</td>\n",
       "      <td>['Pickup']</td>\n",
       "    </tr>\n",
       "    <tr>\n",
       "      <th>1</th>\n",
       "      <td>I heard so many good stories about people usin...</td>\n",
       "      <td>['Customer Support', 'Price', 'Advance Ride Bo...</td>\n",
       "      <td>[0.6645472645759583, 0.506709098815918, 0.3678...</td>\n",
       "      <td>['Customer Support']</td>\n",
       "    </tr>\n",
       "    <tr>\n",
       "      <th>2</th>\n",
       "      <td>If you need a cheap ride and you need to get s...</td>\n",
       "      <td>['Advance Ride Booking', 'Cancellation Fee', '...</td>\n",
       "      <td>[0.7515338063240051, 0.6101875901222229, 0.565...</td>\n",
       "      <td>['Advance Ride Booking', 'Cancellation Fee']</td>\n",
       "    </tr>\n",
       "    <tr>\n",
       "      <th>3</th>\n",
       "      <td>Uber is Uber, it’s as good as lyft but pricier...</td>\n",
       "      <td>['Customer Support', 'Price', 'Cancellation Fe...</td>\n",
       "      <td>[0.9570878744125366, 0.8025601506233215, 0.491...</td>\n",
       "      <td>['Customer Support', 'Price']</td>\n",
       "    </tr>\n",
       "    <tr>\n",
       "      <th>4</th>\n",
       "      <td>When deciding wether to use Uber, Lyft or take...</td>\n",
       "      <td>['Pickup', 'Advance Ride Booking', 'Card Issue...</td>\n",
       "      <td>[0.9557592272758484, 0.6880117654800415, 0.563...</td>\n",
       "      <td>['Pickup', 'Advance Ride Booking']</td>\n",
       "    </tr>\n",
       "  </tbody>\n",
       "</table>\n",
       "</div>"
      ],
      "text/plain": [
       "                                              review  \\\n",
       "0  I’ve used Uber a long time and have been able ...   \n",
       "1  I heard so many good stories about people usin...   \n",
       "2  If you need a cheap ride and you need to get s...   \n",
       "3  Uber is Uber, it’s as good as lyft but pricier...   \n",
       "4  When deciding wether to use Uber, Lyft or take...   \n",
       "\n",
       "                                              labels  \\\n",
       "0  ['Pickup', 'Advance Ride Booking', 'Price', 'C...   \n",
       "1  ['Customer Support', 'Price', 'Advance Ride Bo...   \n",
       "2  ['Advance Ride Booking', 'Cancellation Fee', '...   \n",
       "3  ['Customer Support', 'Price', 'Cancellation Fe...   \n",
       "4  ['Pickup', 'Advance Ride Booking', 'Card Issue...   \n",
       "\n",
       "                                              scores  \\\n",
       "0  [0.8712594509124756, 0.6643384695053101, 0.533...   \n",
       "1  [0.6645472645759583, 0.506709098815918, 0.3678...   \n",
       "2  [0.7515338063240051, 0.6101875901222229, 0.565...   \n",
       "3  [0.9570878744125366, 0.8025601506233215, 0.491...   \n",
       "4  [0.9557592272758484, 0.6880117654800415, 0.563...   \n",
       "\n",
       "                                           tags  \n",
       "0                                    ['Pickup']  \n",
       "1                          ['Customer Support']  \n",
       "2  ['Advance Ride Booking', 'Cancellation Fee']  \n",
       "3                 ['Customer Support', 'Price']  \n",
       "4            ['Pickup', 'Advance Ride Booking']  "
      ]
     },
     "execution_count": 144,
     "metadata": {},
     "output_type": "execute_result"
    }
   ],
   "source": [
    "file_path = Path(\"../data/tagged/Uber_5K_Tags_Verified.csv\")\n",
    "assert file_path.exists()\n",
    "raw_df = pd.read_csv(file_path)\n",
    "raw_df.head()"
   ]
  },
  {
   "cell_type": "code",
   "execution_count": 145,
   "id": "5a999690",
   "metadata": {},
   "outputs": [],
   "source": [
    "REVIEW, TAGS = \"review\", \"tags\"\n",
    "df = raw_df[[REVIEW, TAGS]]\n",
    "del raw_df"
   ]
  },
  {
   "cell_type": "code",
   "execution_count": 146,
   "id": "dd49b7ec",
   "metadata": {},
   "outputs": [],
   "source": [
    "import ast\n",
    "from typing import List\n",
    "\n",
    "def get_first_tag(\n",
    "    tag_input: str,\n",
    "    valid_tags: List[str] = [\n",
    "        \"Pickup\",\n",
    "        \"Customer Support\",\n",
    "        \"Cancellation Fee\",\n",
    "        \"Pool\",\n",
    "        \"Price\",\n",
    "        \"Card Issues\",\n",
    "    ],\n",
    "):\n",
    "    try:\n",
    "        tag_input = tag_input.strip()\n",
    "    except AttributeError as ae:\n",
    "        return None\n",
    "    if len(tag_input) < 1:\n",
    "        return None\n",
    "    try:\n",
    "        tag = ast.literal_eval(tag_input)[0]\n",
    "        if tag not in valid_tags:\n",
    "            return None\n",
    "        return tag\n",
    "    except SyntaxError as e:\n",
    "        return None\n",
    "\n",
    "\n",
    "df[TAGS] = df[TAGS].apply(get_first_tag)"
   ]
  },
  {
   "cell_type": "code",
   "execution_count": 147,
   "id": "ae9cbb86",
   "metadata": {},
   "outputs": [
    {
     "data": {
      "text/plain": [
       "593"
      ]
     },
     "execution_count": 147,
     "metadata": {},
     "output_type": "execute_result"
    }
   ],
   "source": [
    "sum(df[TAGS].isna())"
   ]
  },
  {
   "cell_type": "code",
   "execution_count": 148,
   "id": "557b522a",
   "metadata": {},
   "outputs": [],
   "source": [
    "df.fillna(\"Unknown\", inplace=True)"
   ]
  },
  {
   "cell_type": "code",
   "execution_count": 149,
   "id": "e8cec8b1",
   "metadata": {},
   "outputs": [
    {
     "data": {
      "text/plain": [
       "array(['Pickup', 'Customer Support', 'Unknown', 'Cancellation Fee',\n",
       "       'Pool', 'Price', 'Card Issues'], dtype=object)"
      ]
     },
     "execution_count": 149,
     "metadata": {},
     "output_type": "execute_result"
    }
   ],
   "source": [
    "df.tags.unique()"
   ]
  },
  {
   "cell_type": "code",
   "execution_count": 165,
   "id": "59361326",
   "metadata": {},
   "outputs": [],
   "source": [
    "def binarize_labels(df: pd.DataFrame, target_label: str):\n",
    "    def match_label(sample_label) -> int:\n",
    "\n",
    "        if sample_label == target_label:\n",
    "            return 1\n",
    "        return 0\n",
    "\n",
    "    return df[TAGS].apply(match_label)"
   ]
  },
  {
   "cell_type": "code",
   "execution_count": 166,
   "id": "e62e0ef1",
   "metadata": {},
   "outputs": [],
   "source": [
    "df['y'] = binarize_labels(df, target_label=\"Pickup\")"
   ]
  },
  {
   "cell_type": "code",
   "execution_count": 167,
   "id": "e1c7623f",
   "metadata": {},
   "outputs": [
    {
     "data": {
      "text/html": [
       "<div>\n",
       "<style scoped>\n",
       "    .dataframe tbody tr th:only-of-type {\n",
       "        vertical-align: middle;\n",
       "    }\n",
       "\n",
       "    .dataframe tbody tr th {\n",
       "        vertical-align: top;\n",
       "    }\n",
       "\n",
       "    .dataframe thead th {\n",
       "        text-align: right;\n",
       "    }\n",
       "</style>\n",
       "<table border=\"1\" class=\"dataframe\">\n",
       "  <thead>\n",
       "    <tr style=\"text-align: right;\">\n",
       "      <th></th>\n",
       "      <th>review</th>\n",
       "      <th>tags</th>\n",
       "      <th>y</th>\n",
       "    </tr>\n",
       "  </thead>\n",
       "  <tbody>\n",
       "    <tr>\n",
       "      <th>0</th>\n",
       "      <td>I’ve used Uber a long time and have been able ...</td>\n",
       "      <td>Pickup</td>\n",
       "      <td>1</td>\n",
       "    </tr>\n",
       "    <tr>\n",
       "      <th>1</th>\n",
       "      <td>I heard so many good stories about people usin...</td>\n",
       "      <td>Customer Support</td>\n",
       "      <td>0</td>\n",
       "    </tr>\n",
       "    <tr>\n",
       "      <th>2</th>\n",
       "      <td>If you need a cheap ride and you need to get s...</td>\n",
       "      <td>Unknown</td>\n",
       "      <td>0</td>\n",
       "    </tr>\n",
       "    <tr>\n",
       "      <th>3</th>\n",
       "      <td>Uber is Uber, it’s as good as lyft but pricier...</td>\n",
       "      <td>Customer Support</td>\n",
       "      <td>0</td>\n",
       "    </tr>\n",
       "    <tr>\n",
       "      <th>4</th>\n",
       "      <td>When deciding wether to use Uber, Lyft or take...</td>\n",
       "      <td>Pickup</td>\n",
       "      <td>1</td>\n",
       "    </tr>\n",
       "    <tr>\n",
       "      <th>...</th>\n",
       "      <td>...</td>\n",
       "      <td>...</td>\n",
       "      <td>...</td>\n",
       "    </tr>\n",
       "    <tr>\n",
       "      <th>4995</th>\n",
       "      <td>Jose was awesome!  I absolutely love my new sc...</td>\n",
       "      <td>Unknown</td>\n",
       "      <td>0</td>\n",
       "    </tr>\n",
       "    <tr>\n",
       "      <th>4996</th>\n",
       "      <td>I use Uber a lot, but a few days ago my boyfri...</td>\n",
       "      <td>Pickup</td>\n",
       "      <td>1</td>\n",
       "    </tr>\n",
       "    <tr>\n",
       "      <th>4997</th>\n",
       "      <td>My wife and I were leaving LAS Thursday night ...</td>\n",
       "      <td>Cancellation Fee</td>\n",
       "      <td>0</td>\n",
       "    </tr>\n",
       "    <tr>\n",
       "      <th>4998</th>\n",
       "      <td>I was outside my location for 10 minutes and w...</td>\n",
       "      <td>Price</td>\n",
       "      <td>0</td>\n",
       "    </tr>\n",
       "    <tr>\n",
       "      <th>4999</th>\n",
       "      <td>You might want to use it in a pinch, but they ...</td>\n",
       "      <td>Cancellation Fee</td>\n",
       "      <td>0</td>\n",
       "    </tr>\n",
       "  </tbody>\n",
       "</table>\n",
       "<p>5000 rows × 3 columns</p>\n",
       "</div>"
      ],
      "text/plain": [
       "                                                 review              tags  y\n",
       "0     I’ve used Uber a long time and have been able ...            Pickup  1\n",
       "1     I heard so many good stories about people usin...  Customer Support  0\n",
       "2     If you need a cheap ride and you need to get s...           Unknown  0\n",
       "3     Uber is Uber, it’s as good as lyft but pricier...  Customer Support  0\n",
       "4     When deciding wether to use Uber, Lyft or take...            Pickup  1\n",
       "...                                                 ...               ... ..\n",
       "4995  Jose was awesome!  I absolutely love my new sc...           Unknown  0\n",
       "4996  I use Uber a lot, but a few days ago my boyfri...            Pickup  1\n",
       "4997  My wife and I were leaving LAS Thursday night ...  Cancellation Fee  0\n",
       "4998  I was outside my location for 10 minutes and w...             Price  0\n",
       "4999  You might want to use it in a pinch, but they ...  Cancellation Fee  0\n",
       "\n",
       "[5000 rows x 3 columns]"
      ]
     },
     "execution_count": 167,
     "metadata": {},
     "output_type": "execute_result"
    }
   ],
   "source": [
    "df"
   ]
  },
  {
   "cell_type": "code",
   "execution_count": 164,
   "id": "091f0595",
   "metadata": {},
   "outputs": [],
   "source": [
    "from nbsvm import NBSVMClassifier"
   ]
  },
  {
   "cell_type": "code",
   "execution_count": 128,
   "id": "3bd9fa66",
   "metadata": {},
   "outputs": [],
   "source": [
    "sss = StratifiedShuffleSplit(n_splits=1, test_size=0.2, random_state=0)"
   ]
  },
  {
   "cell_type": "code",
   "execution_count": 130,
   "id": "08f86a56",
   "metadata": {},
   "outputs": [],
   "source": [
    "for train_index, test_index in sss.split(df[REVIEW], df[TAG]):\n",
    "    pass\n",
    "#     print(f\"TRAIN:{train_index}, TEST: {test_index}\")\n",
    "train, test = df.iloc[train_index], df.iloc[test_index]"
   ]
  },
  {
   "cell_type": "code",
   "execution_count": 118,
   "id": "0cf57816",
   "metadata": {},
   "outputs": [],
   "source": [
    "\"\"\"\n",
    "I hack together a separated tokenizer after removing punctuation isntead of spaCy tokenizer. \n",
    "This is because spaCy used linguistic rules, which in turn, depend on punctuation to make it work correctly. \n",
    "Alternativel, I could've tokenized using spaCy and dropped the punctuation tokens from the result\n",
    "\"\"\"\n",
    "import re, string\n",
    "re_tok = re.compile(f'([{string.punctuation}“”¨«»®´·º½¾¿¡§£₤‘’])')\n",
    "def tokenize(s): return re_tok.sub(r' \\1 ', s).split()"
   ]
  },
  {
   "cell_type": "code",
   "execution_count": 131,
   "id": "c1ead3d0",
   "metadata": {},
   "outputs": [],
   "source": [
    "n = train.shape[0]\n",
    "vec = TfidfVectorizer(\n",
    "    ngram_range=(1, 2),\n",
    "    tokenizer=tokenize,\n",
    "    min_df=3,\n",
    "    max_df=0.9,\n",
    "    strip_accents=\"unicode\",\n",
    "    use_idf=1,\n",
    "    smooth_idf=1,\n",
    "    sublinear_tf=1,\n",
    ")"
   ]
  },
  {
   "cell_type": "code",
   "execution_count": 134,
   "id": "d286236b",
   "metadata": {},
   "outputs": [
    {
     "name": "stdout",
     "output_type": "stream",
     "text": [
      "Wall time: 1.91 s\n"
     ]
    }
   ],
   "source": [
    "%%time\n",
    "trn_term_doc = vec.fit_transform(train[REVIEW])"
   ]
  },
  {
   "cell_type": "code",
   "execution_count": 135,
   "id": "af39bd78",
   "metadata": {},
   "outputs": [
    {
     "name": "stdout",
     "output_type": "stream",
     "text": [
      "Wall time: 416 ms\n"
     ]
    }
   ],
   "source": [
    "%%time\n",
    "test_term_doc = vec.transform(test[REVIEW])"
   ]
  },
  {
   "cell_type": "code",
   "execution_count": 136,
   "id": "4b971bcd",
   "metadata": {},
   "outputs": [],
   "source": [
    "def pr(y_i, y):\n",
    "    \"\"\"\n",
    "    Basic Naive Bayes Equation\n",
    "    \"\"\"\n",
    "    p = x[y == y_i].sum(0)\n",
    "    return (p + 1) / ((y == y_i).sum() + 1)"
   ]
  },
  {
   "cell_type": "code",
   "execution_count": 137,
   "id": "52fd25c9",
   "metadata": {},
   "outputs": [],
   "source": [
    "def get_mdl(y):\n",
    "    y = y.values\n",
    "    r = np.log(pr(1,y) / pr(0,y))\n",
    "    m = LogisticRegression(C=4, dual=True)\n",
    "    x_nb = x.multiply(r)\n",
    "    return m.fit(x_nb, y), r"
   ]
  },
  {
   "cell_type": "code",
   "execution_count": 138,
   "id": "5bee3798",
   "metadata": {},
   "outputs": [],
   "source": [
    "preds = np.zeros((len(test), len(df[TAGS].unique())))"
   ]
  },
  {
   "cell_type": "code",
   "execution_count": 139,
   "id": "0596f2d5",
   "metadata": {},
   "outputs": [
    {
     "data": {
      "text/plain": [
       "array([[0., 0., 0., ..., 0., 0., 0.],\n",
       "       [0., 0., 0., ..., 0., 0., 0.],\n",
       "       [0., 0., 0., ..., 0., 0., 0.],\n",
       "       ...,\n",
       "       [0., 0., 0., ..., 0., 0., 0.],\n",
       "       [0., 0., 0., ..., 0., 0., 0.],\n",
       "       [0., 0., 0., ..., 0., 0., 0.]])"
      ]
     },
     "execution_count": 139,
     "metadata": {},
     "output_type": "execute_result"
    }
   ],
   "source": [
    "for i, j in enumerate(label_cols):\n",
    "    print('fit', j)\n",
    "    m,r = get_mdl(train[j])\n",
    "    preds[:,i] = m.predict_proba(test_x.multiply(r))[:,1]"
   ]
  },
  {
   "cell_type": "code",
   "execution_count": null,
   "id": "f8784647",
   "metadata": {},
   "outputs": [],
   "source": []
  },
  {
   "cell_type": "code",
   "execution_count": null,
   "id": "5fcf9b6f",
   "metadata": {},
   "outputs": [],
   "source": []
  },
  {
   "cell_type": "code",
   "execution_count": null,
   "id": "9ff82b0d",
   "metadata": {},
   "outputs": [],
   "source": []
  },
  {
   "cell_type": "code",
   "execution_count": null,
   "id": "8b6f42ca",
   "metadata": {},
   "outputs": [],
   "source": []
  },
  {
   "cell_type": "code",
   "execution_count": null,
   "id": "7afa2299",
   "metadata": {},
   "outputs": [],
   "source": []
  },
  {
   "cell_type": "code",
   "execution_count": null,
   "id": "ba1af7f4",
   "metadata": {},
   "outputs": [],
   "source": []
  },
  {
   "cell_type": "code",
   "execution_count": null,
   "id": "8c9316a8",
   "metadata": {},
   "outputs": [],
   "source": []
  },
  {
   "cell_type": "code",
   "execution_count": null,
   "id": "53de6e95",
   "metadata": {},
   "outputs": [],
   "source": []
  },
  {
   "cell_type": "code",
   "execution_count": null,
   "id": "c1f295d2",
   "metadata": {},
   "outputs": [],
   "source": []
  },
  {
   "cell_type": "code",
   "execution_count": null,
   "id": "3663a35b",
   "metadata": {},
   "outputs": [],
   "source": []
  },
  {
   "cell_type": "code",
   "execution_count": null,
   "id": "a0f5b1e3",
   "metadata": {},
   "outputs": [],
   "source": []
  },
  {
   "cell_type": "code",
   "execution_count": null,
   "id": "f8c1bd5d",
   "metadata": {},
   "outputs": [],
   "source": []
  },
  {
   "cell_type": "code",
   "execution_count": null,
   "id": "396d8cc8",
   "metadata": {},
   "outputs": [],
   "source": []
  },
  {
   "cell_type": "code",
   "execution_count": null,
   "id": "11fb205a",
   "metadata": {},
   "outputs": [],
   "source": []
  },
  {
   "cell_type": "code",
   "execution_count": null,
   "id": "e59186d8",
   "metadata": {},
   "outputs": [],
   "source": []
  },
  {
   "cell_type": "code",
   "execution_count": null,
   "id": "4ca9554b",
   "metadata": {},
   "outputs": [],
   "source": []
  },
  {
   "cell_type": "code",
   "execution_count": null,
   "id": "af4dda09",
   "metadata": {},
   "outputs": [],
   "source": []
  },
  {
   "cell_type": "code",
   "execution_count": null,
   "id": "6808917c",
   "metadata": {},
   "outputs": [],
   "source": []
  }
 ],
 "metadata": {
  "kernelspec": {
   "display_name": "Python 3",
   "language": "python",
   "name": "python3"
  },
  "language_info": {
   "codemirror_mode": {
    "name": "ipython",
    "version": 3
   },
   "file_extension": ".py",
   "mimetype": "text/x-python",
   "name": "python",
   "nbconvert_exporter": "python",
   "pygments_lexer": "ipython3",
   "version": "3.7.0"
  }
 },
 "nbformat": 4,
 "nbformat_minor": 5
}
