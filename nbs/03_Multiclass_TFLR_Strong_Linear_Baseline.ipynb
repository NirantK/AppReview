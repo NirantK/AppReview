{
 "cells": [
  {
   "cell_type": "code",
   "execution_count": 41,
   "id": "10fce363",
   "metadata": {},
   "outputs": [
    {
     "name": "stdout",
     "output_type": "stream",
     "text": [
      "The autoreload extension is already loaded. To reload it, use:\n",
      "  %reload_ext autoreload\n"
     ]
    }
   ],
   "source": [
    "import json\n",
    "import random\n",
    "from pathlib import Path\n",
    "\n",
    "import pandas as pd\n",
    "import numpy as np\n",
    "%load_ext autoreload\n",
    "%autoreload 2\n",
    "Path.ls = lambda x: list(x.iterdir())\n",
    "# from urllib.parse import quote_plus"
   ]
  },
  {
   "cell_type": "markdown",
   "id": "918ea120",
   "metadata": {},
   "source": [
    "# Text Classification with TF-NB-SVM"
   ]
  },
  {
   "cell_type": "code",
   "execution_count": 43,
   "id": "6febb487",
   "metadata": {},
   "outputs": [],
   "source": [
    "from sklearn.linear_model import LogisticRegression\n",
    "from sklearn.feature_extraction.text import CountVectorizer, TfidfVectorizer\n",
    "from sklearn.model_selection import StratifiedShuffleSplit"
   ]
  },
  {
   "cell_type": "code",
   "execution_count": 158,
   "id": "63b1abae",
   "metadata": {},
   "outputs": [],
   "source": [
    "# Get Data\n",
    "REVIEW, TAGS = \"review\", \"tags\"\n",
    "def get_reviews(file_path: Path)->pd.DataFrame:\n",
    "    assert file_path.exists()\n",
    "    raw_df = pd.read_csv(file_path)\n",
    "    raw_df.head()\n",
    "    df = raw_df[[REVIEW, TAGS]]\n",
    "    return df\n",
    "\n",
    "file_path = Path(\"../data/tagged/Uber_5K_Tags_Verified.csv\")\n",
    "df = get_reviews(file_path)"
   ]
  },
  {
   "cell_type": "code",
   "execution_count": 159,
   "id": "dd49b7ec",
   "metadata": {},
   "outputs": [],
   "source": [
    "import ast\n",
    "from typing import List\n",
    "\n",
    "label_cols: List[str] = [\n",
    "    \"Pickup\",\n",
    "    \"Customer Support\",\n",
    "    \"Cancellation Fee\",\n",
    "    \"Pool\",\n",
    "    \"Price\",\n",
    "    \"Card Issues\",\n",
    "]\n",
    "\n",
    "label_cols = sorted(label_cols)\n",
    "\n",
    "def get_tags_list(tag_input: str) -> List[str]:\n",
    "    try:\n",
    "        tag_input = tag_input.strip()\n",
    "    except AttributeError as ae:\n",
    "        return [\"Unknown\"]\n",
    "    if len(tag_input) < 1:\n",
    "        return [\"Unknown\"]\n",
    "    try:\n",
    "        tags = ast.literal_eval(tag_input)\n",
    "        tags = [tag for tag in tags if tag in label_cols]\n",
    "        return tags\n",
    "    except SyntaxError as e:\n",
    "        return [\"Unknown\"]\n",
    "    except ValueError as e:\n",
    "        print(f\"{tag_input} caused an error:{e}\")\n",
    "\n",
    "\n",
    "df[TAGS] = df[TAGS].apply(get_tags_list)"
   ]
  },
  {
   "cell_type": "code",
   "execution_count": 160,
   "id": "ae9cbb86",
   "metadata": {},
   "outputs": [
    {
     "name": "stdout",
     "output_type": "stream",
     "text": [
      "There are 0 rows with invalid tags. This usually happens due to human errors, e.g. typos\n"
     ]
    }
   ],
   "source": [
    "print(f\"There are {sum(df[TAGS].isna())} rows with invalid tags. This usually happens due to human errors, e.g. typos\")"
   ]
  },
  {
   "cell_type": "markdown",
   "id": "84b5357f",
   "metadata": {},
   "source": [
    "# Setup the Dataframe for Multi-class, multi-label prediction"
   ]
  },
  {
   "cell_type": "code",
   "execution_count": 161,
   "id": "59361326",
   "metadata": {},
   "outputs": [],
   "source": [
    "def binarize_labels(df: pd.DataFrame, target_label: str):\n",
    "    \"\"\"\n",
    "    Return a column with 0/1 entries corresponding to a specific column\n",
    "    \"\"\"\n",
    "\n",
    "    def match_label(sample_labels: List[str]) -> int:\n",
    "        if target_label in sample_labels:\n",
    "            return 1\n",
    "        return 0\n",
    "\n",
    "    return df[TAGS].apply(match_label)"
   ]
  },
  {
   "cell_type": "code",
   "execution_count": 162,
   "id": "e62e0ef1",
   "metadata": {},
   "outputs": [],
   "source": [
    "for col_name in label_cols:\n",
    "    df[f\"{col_name}\"] = binarize_labels(df, target_label=col_name)"
   ]
  },
  {
   "cell_type": "code",
   "execution_count": 163,
   "id": "e1c7623f",
   "metadata": {},
   "outputs": [
    {
     "data": {
      "text/html": [
       "<div>\n",
       "<style scoped>\n",
       "    .dataframe tbody tr th:only-of-type {\n",
       "        vertical-align: middle;\n",
       "    }\n",
       "\n",
       "    .dataframe tbody tr th {\n",
       "        vertical-align: top;\n",
       "    }\n",
       "\n",
       "    .dataframe thead th {\n",
       "        text-align: right;\n",
       "    }\n",
       "</style>\n",
       "<table border=\"1\" class=\"dataframe\">\n",
       "  <thead>\n",
       "    <tr style=\"text-align: right;\">\n",
       "      <th></th>\n",
       "      <th>review</th>\n",
       "      <th>tags</th>\n",
       "      <th>Cancellation Fee</th>\n",
       "      <th>Card Issues</th>\n",
       "      <th>Customer Support</th>\n",
       "      <th>Pickup</th>\n",
       "      <th>Pool</th>\n",
       "      <th>Price</th>\n",
       "    </tr>\n",
       "  </thead>\n",
       "  <tbody>\n",
       "    <tr>\n",
       "      <th>0</th>\n",
       "      <td>I’ve used Uber a long time and have been able ...</td>\n",
       "      <td>[Pickup]</td>\n",
       "      <td>0</td>\n",
       "      <td>0</td>\n",
       "      <td>0</td>\n",
       "      <td>1</td>\n",
       "      <td>0</td>\n",
       "      <td>0</td>\n",
       "    </tr>\n",
       "    <tr>\n",
       "      <th>1</th>\n",
       "      <td>I heard so many good stories about people usin...</td>\n",
       "      <td>[Customer Support]</td>\n",
       "      <td>0</td>\n",
       "      <td>0</td>\n",
       "      <td>1</td>\n",
       "      <td>0</td>\n",
       "      <td>0</td>\n",
       "      <td>0</td>\n",
       "    </tr>\n",
       "    <tr>\n",
       "      <th>2</th>\n",
       "      <td>If you need a cheap ride and you need to get s...</td>\n",
       "      <td>[Cancellation Fee]</td>\n",
       "      <td>1</td>\n",
       "      <td>0</td>\n",
       "      <td>0</td>\n",
       "      <td>0</td>\n",
       "      <td>0</td>\n",
       "      <td>0</td>\n",
       "    </tr>\n",
       "    <tr>\n",
       "      <th>3</th>\n",
       "      <td>Uber is Uber, it’s as good as lyft but pricier...</td>\n",
       "      <td>[Customer Support, Price]</td>\n",
       "      <td>0</td>\n",
       "      <td>0</td>\n",
       "      <td>1</td>\n",
       "      <td>0</td>\n",
       "      <td>0</td>\n",
       "      <td>1</td>\n",
       "    </tr>\n",
       "    <tr>\n",
       "      <th>4</th>\n",
       "      <td>When deciding wether to use Uber, Lyft or take...</td>\n",
       "      <td>[Pickup]</td>\n",
       "      <td>0</td>\n",
       "      <td>0</td>\n",
       "      <td>0</td>\n",
       "      <td>1</td>\n",
       "      <td>0</td>\n",
       "      <td>0</td>\n",
       "    </tr>\n",
       "  </tbody>\n",
       "</table>\n",
       "</div>"
      ],
      "text/plain": [
       "                                              review  \\\n",
       "0  I’ve used Uber a long time and have been able ...   \n",
       "1  I heard so many good stories about people usin...   \n",
       "2  If you need a cheap ride and you need to get s...   \n",
       "3  Uber is Uber, it’s as good as lyft but pricier...   \n",
       "4  When deciding wether to use Uber, Lyft or take...   \n",
       "\n",
       "                        tags  Cancellation Fee  Card Issues  Customer Support  \\\n",
       "0                   [Pickup]                 0            0                 0   \n",
       "1         [Customer Support]                 0            0                 1   \n",
       "2         [Cancellation Fee]                 1            0                 0   \n",
       "3  [Customer Support, Price]                 0            0                 1   \n",
       "4                   [Pickup]                 0            0                 0   \n",
       "\n",
       "   Pickup  Pool  Price  \n",
       "0       1     0      0  \n",
       "1       0     0      0  \n",
       "2       0     0      0  \n",
       "3       0     0      1  \n",
       "4       1     0      0  "
      ]
     },
     "execution_count": 163,
     "metadata": {},
     "output_type": "execute_result"
    }
   ],
   "source": [
    "df.head()"
   ]
  },
  {
   "cell_type": "code",
   "execution_count": 164,
   "id": "06c9c4c7",
   "metadata": {},
   "outputs": [
    {
     "name": "stdout",
     "output_type": "stream",
     "text": [
      "Cancellation Fee 1149\n",
      "Card Issues 901\n",
      "Customer Support 1565\n",
      "Pickup 1785\n",
      "Pool 464\n",
      "Price 2428\n"
     ]
    }
   ],
   "source": [
    "for col_name in label_cols:\n",
    "    print(col_name, df[col_name].sum())"
   ]
  },
  {
   "cell_type": "markdown",
   "id": "2e160688",
   "metadata": {},
   "source": [
    "## Create Train-Test Split"
   ]
  },
  {
   "cell_type": "code",
   "execution_count": 165,
   "id": "3bd9fa66",
   "metadata": {},
   "outputs": [],
   "source": [
    "sss = StratifiedShuffleSplit(n_splits=1, test_size=0.3, random_state=37)"
   ]
  },
  {
   "cell_type": "code",
   "execution_count": 166,
   "id": "08f86a56",
   "metadata": {},
   "outputs": [
    {
     "data": {
      "text/plain": [
       "(3500, 1500)"
      ]
     },
     "execution_count": 166,
     "metadata": {},
     "output_type": "execute_result"
    }
   ],
   "source": [
    "for train_index, test_index in sss.split(df[REVIEW], df[\"Pool\"]):\n",
    "    pass\n",
    "#     print(f\"TRAIN:{train_index}, TEST: {test_index}\")\n",
    "train, test = df.iloc[train_index], df.iloc[test_index]\n",
    "len(train), len(test)"
   ]
  },
  {
   "cell_type": "markdown",
   "id": "81371a67",
   "metadata": {},
   "source": [
    "# TF-IDF matrix for Reviews"
   ]
  },
  {
   "cell_type": "code",
   "execution_count": 167,
   "id": "c1c211eb",
   "metadata": {},
   "outputs": [],
   "source": [
    "\"\"\"\n",
    "We write our own regex tokenizer instead of using spaCy tokenizer.\n",
    "Why? Because, spaCy used linguistic rules, which in turn, depend on punctuation to make it work correctly. \n",
    "Alternatively, I could've tokenized using spaCy and dropped the punctuation tokens from the result\n",
    "\"\"\"\n",
    "import re, string\n",
    "re_tok = re.compile(f'([{string.punctuation}“”¨«»®´·º½¾¿¡§£₤‘’])')\n",
    "def tokenize(s): return re_tok.sub(r' \\1 ', s).split()"
   ]
  },
  {
   "cell_type": "code",
   "execution_count": 168,
   "id": "6385af98",
   "metadata": {},
   "outputs": [],
   "source": [
    "n = train.shape[0]\n",
    "vec = TfidfVectorizer(\n",
    "    ngram_range=(1, 2),\n",
    "    tokenizer=tokenize,\n",
    "    min_df=3,\n",
    "    max_df=0.9,\n",
    "    strip_accents=\"unicode\",\n",
    "    use_idf=1,\n",
    "    smooth_idf=1,\n",
    "    sublinear_tf=1,\n",
    ")"
   ]
  },
  {
   "cell_type": "code",
   "execution_count": 169,
   "id": "9531a1e5",
   "metadata": {},
   "outputs": [
    {
     "name": "stdout",
     "output_type": "stream",
     "text": [
      "Wall time: 2.59 s\n"
     ]
    }
   ],
   "source": [
    "%%time\n",
    "trn_term_doc = vec.fit_transform(train[REVIEW])"
   ]
  },
  {
   "cell_type": "code",
   "execution_count": 170,
   "id": "2df4815f",
   "metadata": {},
   "outputs": [
    {
     "name": "stdout",
     "output_type": "stream",
     "text": [
      "Wall time: 905 ms\n"
     ]
    }
   ],
   "source": [
    "%%time\n",
    "test_term_doc = vec.transform(test[REVIEW])"
   ]
  },
  {
   "cell_type": "code",
   "execution_count": 171,
   "id": "8f85a8e9",
   "metadata": {},
   "outputs": [],
   "source": [
    "# Train and Predict NB-LR "
   ]
  },
  {
   "cell_type": "code",
   "execution_count": 172,
   "id": "4b971bcd",
   "metadata": {},
   "outputs": [],
   "source": [
    "def pr(y_i, y):\n",
    "    \"\"\"\n",
    "    Basic Naive Bayes Equation\n",
    "    \"\"\"\n",
    "    p = x[y == y_i].sum(0)\n",
    "    return (p + 1) / ((y == y_i).sum() + 1)"
   ]
  },
  {
   "cell_type": "code",
   "execution_count": 173,
   "id": "52fd25c9",
   "metadata": {},
   "outputs": [],
   "source": [
    "x = trn_term_doc\n",
    "test_x = test_term_doc\n",
    "\n",
    "def get_mdl(y):\n",
    "    y = y.values\n",
    "    r = np.log(pr(1, y) / pr(0, y))\n",
    "    m = LogisticRegression(C=4, dual=False)\n",
    "    x_nb = x.multiply(r)\n",
    "    return m.fit(x_nb, y), r"
   ]
  },
  {
   "cell_type": "code",
   "execution_count": 174,
   "id": "5bee3798",
   "metadata": {},
   "outputs": [
    {
     "data": {
      "text/plain": [
       "(1500, 6)"
      ]
     },
     "execution_count": 174,
     "metadata": {},
     "output_type": "execute_result"
    }
   ],
   "source": [
    "preds = np.zeros((len(test), len(label_cols)))\n",
    "preds.shape"
   ]
  },
  {
   "cell_type": "code",
   "execution_count": 175,
   "id": "f3810413",
   "metadata": {},
   "outputs": [],
   "source": [
    "# Train and Predict"
   ]
  },
  {
   "cell_type": "code",
   "execution_count": 176,
   "id": "0596f2d5",
   "metadata": {},
   "outputs": [
    {
     "name": "stdout",
     "output_type": "stream",
     "text": [
      "fit Cancellation Fee\n",
      "fit Card Issues\n",
      "fit Customer Support\n",
      "fit Pickup\n",
      "fit Pool\n",
      "fit Price\n",
      "Wall time: 7.14 s\n"
     ]
    }
   ],
   "source": [
    "%%time\n",
    "for i, col in enumerate(label_cols):\n",
    "    print('fit', col)\n",
    "    m,r = get_mdl(train[col])\n",
    "    preds[:,i] = m.predict_proba(test_x.multiply(r))[:,1]"
   ]
  },
  {
   "cell_type": "code",
   "execution_count": 177,
   "id": "f8784647",
   "metadata": {},
   "outputs": [],
   "source": [
    "df_pred = pd.DataFrame(preds, columns = label_cols)"
   ]
  },
  {
   "cell_type": "code",
   "execution_count": 178,
   "id": "5fcf9b6f",
   "metadata": {},
   "outputs": [
    {
     "data": {
      "text/html": [
       "<div>\n",
       "<style scoped>\n",
       "    .dataframe tbody tr th:only-of-type {\n",
       "        vertical-align: middle;\n",
       "    }\n",
       "\n",
       "    .dataframe tbody tr th {\n",
       "        vertical-align: top;\n",
       "    }\n",
       "\n",
       "    .dataframe thead th {\n",
       "        text-align: right;\n",
       "    }\n",
       "</style>\n",
       "<table border=\"1\" class=\"dataframe\">\n",
       "  <thead>\n",
       "    <tr style=\"text-align: right;\">\n",
       "      <th></th>\n",
       "      <th>Cancellation Fee</th>\n",
       "      <th>Card Issues</th>\n",
       "      <th>Customer Support</th>\n",
       "      <th>Pickup</th>\n",
       "      <th>Pool</th>\n",
       "      <th>Price</th>\n",
       "    </tr>\n",
       "  </thead>\n",
       "  <tbody>\n",
       "    <tr>\n",
       "      <th>0</th>\n",
       "      <td>0.071093</td>\n",
       "      <td>0.115938</td>\n",
       "      <td>0.414364</td>\n",
       "      <td>0.209997</td>\n",
       "      <td>0.393630</td>\n",
       "      <td>0.235066</td>\n",
       "    </tr>\n",
       "    <tr>\n",
       "      <th>1</th>\n",
       "      <td>0.057139</td>\n",
       "      <td>0.138802</td>\n",
       "      <td>0.424029</td>\n",
       "      <td>0.190097</td>\n",
       "      <td>0.016096</td>\n",
       "      <td>0.323736</td>\n",
       "    </tr>\n",
       "    <tr>\n",
       "      <th>2</th>\n",
       "      <td>0.358042</td>\n",
       "      <td>0.067424</td>\n",
       "      <td>0.223449</td>\n",
       "      <td>0.258978</td>\n",
       "      <td>0.010402</td>\n",
       "      <td>0.327304</td>\n",
       "    </tr>\n",
       "    <tr>\n",
       "      <th>3</th>\n",
       "      <td>0.992528</td>\n",
       "      <td>0.083072</td>\n",
       "      <td>0.108161</td>\n",
       "      <td>0.169787</td>\n",
       "      <td>0.013446</td>\n",
       "      <td>0.585607</td>\n",
       "    </tr>\n",
       "    <tr>\n",
       "      <th>4</th>\n",
       "      <td>0.047330</td>\n",
       "      <td>0.046365</td>\n",
       "      <td>0.334215</td>\n",
       "      <td>0.247478</td>\n",
       "      <td>0.007205</td>\n",
       "      <td>0.392426</td>\n",
       "    </tr>\n",
       "  </tbody>\n",
       "</table>\n",
       "</div>"
      ],
      "text/plain": [
       "   Cancellation Fee  Card Issues  Customer Support    Pickup      Pool  \\\n",
       "0          0.071093     0.115938          0.414364  0.209997  0.393630   \n",
       "1          0.057139     0.138802          0.424029  0.190097  0.016096   \n",
       "2          0.358042     0.067424          0.223449  0.258978  0.010402   \n",
       "3          0.992528     0.083072          0.108161  0.169787  0.013446   \n",
       "4          0.047330     0.046365          0.334215  0.247478  0.007205   \n",
       "\n",
       "      Price  \n",
       "0  0.235066  \n",
       "1  0.323736  \n",
       "2  0.327304  \n",
       "3  0.585607  \n",
       "4  0.392426  "
      ]
     },
     "execution_count": 178,
     "metadata": {},
     "output_type": "execute_result"
    }
   ],
   "source": [
    "df_pred.head()"
   ]
  },
  {
   "cell_type": "markdown",
   "id": "1545e269",
   "metadata": {},
   "source": [
    "# Evaluation"
   ]
  },
  {
   "cell_type": "code",
   "execution_count": 179,
   "id": "6718e5da",
   "metadata": {},
   "outputs": [
    {
     "name": "stdout",
     "output_type": "stream",
     "text": [
      "*Cancellation Fee*:\tPrecision: 0.85,\tRecall: 0.60,\tF1: 0.70\n",
      "*Card Issues*:\tPrecision: 0.89,\tRecall: 0.46,\tF1: 0.61\n",
      "*Customer Support*:\tPrecision: 0.79,\tRecall: 0.46,\tF1: 0.58\n",
      "*Pickup*:\tPrecision: 0.84,\tRecall: 0.60,\tF1: 0.70\n",
      "*Pool*:\tPrecision: 0.89,\tRecall: 0.65,\tF1: 0.76\n",
      "*Price*:\tPrecision: 0.82,\tRecall: 0.63,\tF1: 0.71\n"
     ]
    }
   ],
   "source": [
    "def get_binary_pred(x: float, t: float = 0.5) -> int:\n",
    "    if x > t:\n",
    "        return 1\n",
    "    return 0\n",
    "\n",
    "\n",
    "from sklearn.metrics import precision_recall_fscore_support as prfs\n",
    "\n",
    "for col in label_cols:\n",
    "    y_pred = np.array(df_pred[col].apply(get_binary_pred))\n",
    "    y_true = np.array(test[col])\n",
    "    p, r, f, s = prfs(y_pred=y_pred, y_true=y_true, average='binary')\n",
    "    print(f\"*{col}*:\\tPrecision: {p:.2f},\\tRecall: {r:.2f},\\tF1: {f:.2f}\")"
   ]
  }
 ],
 "metadata": {
  "kernelspec": {
   "display_name": "Python 3",
   "language": "python",
   "name": "python3"
  },
  "language_info": {
   "codemirror_mode": {
    "name": "ipython",
    "version": 3
   },
   "file_extension": ".py",
   "mimetype": "text/x-python",
   "name": "python",
   "nbconvert_exporter": "python",
   "pygments_lexer": "ipython3",
   "version": "3.7.0"
  }
 },
 "nbformat": 4,
 "nbformat_minor": 5
}
